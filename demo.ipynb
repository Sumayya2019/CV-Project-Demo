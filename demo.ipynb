{
 "cells": [
  {
   "cell_type": "code",
   "execution_count": 1,
   "metadata": {},
   "outputs": [],
   "source": [
    "%load_ext autoreload\n",
    "\n",
    "%autoreload 2"
   ]
  },
  {
   "cell_type": "code",
   "execution_count": 2,
   "metadata": {},
   "outputs": [],
   "source": [
    "import os\n",
    "import numpy as np\n",
    "from torchvision import transforms\n",
    "\n",
    "import matplotlib.pyplot as plt\n",
    "import torch \n",
    "import torch.nn as nn\n",
    "from torch.utils.data import DataLoader\n",
    "\n",
    "from net import BusterNet\n",
    "from dataset import USCISIDataset"
   ]
  },
  {
   "cell_type": "code",
   "execution_count": 3,
   "metadata": {},
   "outputs": [],
   "source": [
    "\n",
    "def viz(imgs_np, simi_out_np, mani_out_np, mask_out_np, index):\n",
    "    fig = plt.figure(figsize=(20, 80))\n",
    "\n",
    "    img = imgs_np[index]\n",
    "    img = imgs_np[index] * [0.229, 0.224, 0.225] + [0.485, 0.456, 0.406]\n",
    "\n",
    "    ax = fig.add_subplot(1, 4, 1)\n",
    "    plt.imshow(img)\n",
    "    plt.title('Original Image')\n",
    "\n",
    "    simi_pred = (simi_out_np[index] * 2).astype(np.uint8)\n",
    "    ax = fig.add_subplot(1, 4, 2)\n",
    "    plt.imshow(simi_pred[:,:, 0])\n",
    "    plt.title('Similarity mask')\n",
    "\n",
    "    mani_pred = (mani_out_np[index] * 2).astype(np.uint8)\n",
    "    ax = fig.add_subplot(1, 4, 3)\n",
    "    plt.imshow(mani_pred[:,:, 0])\n",
    "    plt.title('Manipulation mask')\n",
    "\n",
    "    mask_pred = (mask_out_np[index] * 2).astype(np.uint8) * 255\n",
    "    ax = fig.add_subplot(1, 4, 4)\n",
    "    plt.imshow(mask_pred)\n",
    "    plt.title('Output mask')\n",
    "\n",
    "    plt.show()"
   ]
  },
  {
   "cell_type": "code",
   "execution_count": 4,
   "metadata": {},
   "outputs": [],
   "source": [
    "# Download dataset to ./datasets/\n",
    "lmdb_dir = './datasets/USCISI-CMFD'\n",
    "test_file = 'test.keys'\n",
    "input_size = 256\n",
    "\n",
    "transform = transforms.Compose([\n",
    "    transforms.ToPILImage(),\n",
    "    transforms.Resize((input_size, input_size)),\n",
    "    transforms.ToTensor(),\n",
    "    transforms.Normalize(mean=[0.485, 0.456, 0.406],\n",
    "                    std=[0.229, 0.224, 0.225]),\n",
    "])\n",
    "target_transform = transforms.Compose([\n",
    "    transforms.ToPILImage(),\n",
    "    transforms.Resize((input_size, input_size)),\n",
    "    transforms.ToTensor(),\n",
    "])\n",
    "test_set = USCISIDataset(lmdb_dir, test_file, transform, target_transform)\n",
    "\n",
    "test_params = {'batch_size': 16,\n",
    "               'shuffle': False,\n",
    "               'drop_last': True,\n",
    "            #    'collate_fn': collater,\n",
    "               'num_workers': 0}\n",
    "\n",
    "test_generator = DataLoader(test_set, **test_params)"
   ]
  },
  {
   "cell_type": "code",
   "execution_count": 5,
   "metadata": {},
   "outputs": [],
   "source": [
    "data = next(iter(test_generator))\n",
    "\n",
    "imgs, gts, _= data"
   ]
  },
  {
   "cell_type": "code",
   "execution_count": null,
   "metadata": {},
   "outputs": [],
   "source": [
    "model = BusterNet(256)\n",
    "\n",
    "model.load_state_dict(torch.load('trained_model/buster_epoch_13.pth'))\n",
    "\n",
    "model.eval()\n",
    "with torch.no_grad():\n",
    "    preds = model(imgs)\n",
    "    \n",
    "mask_out, mani_output, simi_output = preds\n",
    "\n",
    "mask_out_np = mask_out.permute(0, 2, 3, 1).numpy()\n",
    "mani_out_np = mani_output.permute(0, 2, 3, 1).numpy()\n",
    "simi_out_np = simi_output.permute(0, 2, 3, 1).numpy()\n"
   ]
  },
  {
   "cell_type": "code",
   "execution_count": null,
   "metadata": {},
   "outputs": [],
   "source": [
    "index = 8\n",
    "imgs_np = imgs.permute(0, 2, 3, 1).numpy()\n",
    "\n",
    "viz(imgs_np, simi_out_np, mani_out_np, mask_out_np, index)"
   ]
  },
  {
   "cell_type": "code",
   "execution_count": null,
   "metadata": {},
   "outputs": [],
   "source": []
  }
 ],
 "metadata": {
  "kernelspec": {
   "display_name": "Python 3",
   "language": "python",
   "name": "python3"
  },
  "language_info": {
   "codemirror_mode": {
    "name": "ipython",
    "version": 3
   },
   "file_extension": ".py",
   "mimetype": "text/x-python",
   "name": "python",
   "nbconvert_exporter": "python",
   "pygments_lexer": "ipython3",
   "version": "3.7.9"
  }
 },
 "nbformat": 4,
 "nbformat_minor": 4
}
